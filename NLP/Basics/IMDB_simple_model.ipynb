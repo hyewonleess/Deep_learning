{
 "cells": [
  {
   "cell_type": "markdown",
   "metadata": {},
   "source": [
    "# Simple NLP modeling"
   ]
  },
  {
   "cell_type": "code",
   "execution_count": 1,
   "metadata": {},
   "outputs": [
    {
     "name": "stderr",
     "output_type": "stream",
     "text": [
      "[nltk_data] Downloading package punkt to\n",
      "[nltk_data]     C:\\Users\\hyewon\\AppData\\Roaming\\nltk_data...\n",
      "[nltk_data]   Package punkt is already up-to-date!\n",
      "[nltk_data] Downloading package stopwords to\n",
      "[nltk_data]     C:\\Users\\hyewon\\AppData\\Roaming\\nltk_data...\n",
      "[nltk_data]   Package stopwords is already up-to-date!\n"
     ]
    },
    {
     "data": {
      "text/plain": [
       "True"
      ]
     },
     "execution_count": 1,
     "metadata": {},
     "output_type": "execute_result"
    }
   ],
   "source": [
    "import pandas as pd\n",
    "import seaborn as sns\n",
    "import matplotlib.pyplot as plt\n",
    "import numpy as np\n",
    "\n",
    "import os, re\n",
    "import tensorflow as tf\n",
    "from tensorflow.keras.preprocessing.text import Tokenizer\n",
    "from nltk.tokenize.toktok import ToktokTokenizer\n",
    "from tensorflow.keras.preprocessing.sequence import pad_sequences\n",
    "from tensorflow.keras import utils\n",
    "from keras.models import Sequential\n",
    "from keras.layers import Flatten, Dense, Embedding, Dropout, BatchNormalization\n",
    "from keras.callbacks import EarlyStopping, ReduceLROnPlateau\n",
    "\n",
    "import warnings\n",
    "warnings.filterwarnings('ignore')\n",
    "\n",
    "from nltk import sent_tokenize, word_tokenize\n",
    "import nltk\n",
    "nltk.download('punkt')\n",
    "nltk.download('stopwords')"
   ]
  },
  {
   "cell_type": "markdown",
   "metadata": {},
   "source": [
    "## Load data from directory"
   ]
  },
  {
   "cell_type": "code",
   "execution_count": 2,
   "metadata": {},
   "outputs": [],
   "source": [
    "dataset = tf.keras.utils.get_file(fname = 'imdb.tar.gz',\n",
    "                                 origin = \"http://ai.stanford.edu/~amaas/data/sentiment/aclImdb_v1.tar.gz\",\n",
    "                                 extract = True)"
   ]
  },
  {
   "cell_type": "code",
   "execution_count": 3,
   "metadata": {},
   "outputs": [
    {
     "name": "stdout",
     "output_type": "stream",
     "text": [
      "C:\\Users\\hyewon\\.keras\\datasets\n"
     ]
    }
   ],
   "source": [
    "base_dir = os.path.dirname(dataset)\n",
    "print(base_dir)"
   ]
  },
  {
   "cell_type": "code",
   "execution_count": 4,
   "metadata": {},
   "outputs": [],
   "source": [
    "def make_dict(dir):\n",
    "    data = {}\n",
    "    data['txt'] = []\n",
    "    \n",
    "    for i in os.listdir(dir):\n",
    "        path = os.path.join(dir, i)\n",
    "        rst = open(path, 'r', encoding = 'utf-8').read()\n",
    "        data['txt'].append(rst)\n",
    "        \n",
    "    return pd.DataFrame.from_dict(data)"
   ]
  },
  {
   "cell_type": "code",
   "execution_count": 5,
   "metadata": {},
   "outputs": [],
   "source": [
    "train_pos = make_dict(os.path.join(base_dir, 'aclImdb', 'train', 'pos'))\n",
    "train_neg = make_dict(os.path.join(base_dir, 'aclImdb', 'train', 'neg'))\n",
    "test_pos = make_dict(os.path.join(base_dir, 'aclImdb', 'test', 'pos'))\n",
    "test_neg = make_dict(os.path.join(base_dir, 'aclImdb', 'test', 'neg'))"
   ]
  },
  {
   "cell_type": "code",
   "execution_count": 6,
   "metadata": {},
   "outputs": [],
   "source": [
    "train_pos['label'] = 1\n",
    "train_neg['label'] = 0\n",
    "test_pos['label'] = 1\n",
    "test_neg['label'] = 0"
   ]
  },
  {
   "cell_type": "code",
   "execution_count": 7,
   "metadata": {},
   "outputs": [
    {
     "name": "stdout",
     "output_type": "stream",
     "text": [
      "(25000, 2)\n",
      "(25000, 2)\n",
      "(50000, 2)\n"
     ]
    }
   ],
   "source": [
    "train_data = pd.concat([train_pos, train_neg])\n",
    "test_data = pd.concat([test_pos, test_neg])\n",
    "\n",
    "print(train_data.shape)\n",
    "print(test_data.shape)\n",
    "\n",
    "total_data = pd.concat([train_data, test_data])\n",
    "print(total_data.shape)"
   ]
  },
  {
   "cell_type": "markdown",
   "metadata": {},
   "source": [
    "## Natural Language Preprocessing\n",
    " + Remove stopwords\n",
    " + Tokenization\n",
    " + Create sequences from tokens"
   ]
  },
  {
   "cell_type": "code",
   "execution_count": 8,
   "metadata": {},
   "outputs": [],
   "source": [
    "#set stopwords to english\n",
    "stop = nltk.corpus.stopwords.words('english')\n",
    "tokenizer=ToktokTokenizer()\n",
    "\n",
    "#removing the stopwords\n",
    "def remove_stopwords(text, is_lower_case=False):\n",
    "    tokens = tokenizer.tokenize(text)\n",
    "    tokens = [token.strip() for token in tokens]\n",
    "    if is_lower_case:\n",
    "        filtered_tokens = [token for token in tokens if token not in stop]\n",
    "    else:\n",
    "        filtered_tokens = [token for token in tokens if token.lower() not in stop]\n",
    "    filtered_text = ' '.join(filtered_tokens)    \n",
    "    return filtered_text\n",
    "\n",
    "total_data['new_txt'] = total_data['txt'].apply(remove_stopwords)"
   ]
  },
  {
   "cell_type": "code",
   "execution_count": 9,
   "metadata": {},
   "outputs": [],
   "source": [
    "validation_samples = 10000\n",
    "max_words = 10000\n",
    "maxlen = 100\n",
    "\n",
    "token = Tokenizer(num_words = max_words)\n",
    "token.fit_on_texts(total_data['txt'].values)\n",
    "sequence = token.texts_to_sequences(total_data['txt'].values)\n",
    "word_index = token.word_index"
   ]
  },
  {
   "cell_type": "code",
   "execution_count": 10,
   "metadata": {},
   "outputs": [
    {
     "name": "stdout",
     "output_type": "stream",
     "text": [
      "[[5799  469   68 ...   12    9  213]\n",
      " [ 111   10  255 ...    5  343  400]\n",
      " [   8 8161    1 ...    6  179  403]\n",
      " ...\n",
      " [ 105 1139  651 ...  126  338  156]\n",
      " [   3 1687    5 ...   62  178    5]\n",
      " [  82  454  104 ...   15   39 1070]]\n",
      "(50000, 100)\n"
     ]
    }
   ],
   "source": [
    "labels = total_data['label'].values\n",
    "data = pad_sequences(sequence, maxlen = maxlen)\n",
    "print(data)\n",
    "print(data.shape)"
   ]
  },
  {
   "cell_type": "code",
   "execution_count": 11,
   "metadata": {},
   "outputs": [
    {
     "name": "stdout",
     "output_type": "stream",
     "text": [
      "(25000, 100)\n",
      "(25000,)\n",
      "(25000, 100)\n",
      "(25000,)\n"
     ]
    }
   ],
   "source": [
    "# train - validation split\n",
    "X_train = data[:25000]\n",
    "y_train = labels[:25000]\n",
    "X_val = data[25000:]\n",
    "y_val = labels[25000:]\n",
    "\n",
    "print(X_train.shape)\n",
    "print(y_train.shape)\n",
    "print(X_val.shape)\n",
    "print(y_val.shape)"
   ]
  },
  {
   "cell_type": "markdown",
   "metadata": {},
   "source": [
    "## Modeling"
   ]
  },
  {
   "cell_type": "code",
   "execution_count": 12,
   "metadata": {},
   "outputs": [
    {
     "name": "stdout",
     "output_type": "stream",
     "text": [
      "Model: \"sequential\"\n",
      "_________________________________________________________________\n",
      "Layer (type)                 Output Shape              Param #   \n",
      "=================================================================\n",
      "embedding (Embedding)        (None, 100, 100)          1000000   \n",
      "_________________________________________________________________\n",
      "dropout (Dropout)            (None, 100, 100)          0         \n",
      "_________________________________________________________________\n",
      "flatten (Flatten)            (None, 10000)             0         \n",
      "_________________________________________________________________\n",
      "dropout_1 (Dropout)          (None, 10000)             0         \n",
      "_________________________________________________________________\n",
      "dense (Dense)                (None, 1)                 10001     \n",
      "=================================================================\n",
      "Total params: 1,010,001\n",
      "Trainable params: 1,010,001\n",
      "Non-trainable params: 0\n",
      "_________________________________________________________________\n"
     ]
    }
   ],
   "source": [
    "embedding_dim = 100\n",
    "\n",
    "model = Sequential()\n",
    "model.add(Embedding(max_words, embedding_dim, input_length = maxlen))\n",
    "model.add(Dropout(0.3))\n",
    "model.add(Flatten())\n",
    "model.add(Dropout(0.3))\n",
    "model.add(Dense(1, activation = 'sigmoid'))\n",
    "model.summary()"
   ]
  },
  {
   "cell_type": "code",
   "execution_count": 13,
   "metadata": {},
   "outputs": [],
   "source": [
    "es = EarlyStopping(patience = 3, monitor = 'val_loss')\n",
    "rp = ReduceLROnPlateau(patience = 3, factor = 0.1)"
   ]
  },
  {
   "cell_type": "code",
   "execution_count": 14,
   "metadata": {},
   "outputs": [],
   "source": [
    "model.compile(loss = 'binary_crossentropy', metrics = ['acc'], optimizer = 'rmsprop')"
   ]
  },
  {
   "cell_type": "code",
   "execution_count": 15,
   "metadata": {},
   "outputs": [
    {
     "name": "stdout",
     "output_type": "stream",
     "text": [
      "Epoch 1/30\n",
      "782/782 [==============================] - 8s 9ms/step - loss: 0.6080 - acc: 0.6586 - val_loss: 0.3452 - val_acc: 0.8478\n",
      "Epoch 2/30\n",
      "782/782 [==============================] - 7s 9ms/step - loss: 0.2921 - acc: 0.8801 - val_loss: 0.3165 - val_acc: 0.8599\n",
      "Epoch 3/30\n",
      "782/782 [==============================] - 7s 9ms/step - loss: 0.2173 - acc: 0.9144 - val_loss: 0.3164 - val_acc: 0.8613\n",
      "Epoch 4/30\n",
      "782/782 [==============================] - 7s 9ms/step - loss: 0.1679 - acc: 0.9389 - val_loss: 0.3293 - val_acc: 0.8578\n",
      "Epoch 5/30\n",
      "782/782 [==============================] - 7s 9ms/step - loss: 0.1172 - acc: 0.9632 - val_loss: 0.3453 - val_acc: 0.8540\n",
      "Epoch 6/30\n",
      "782/782 [==============================] - 7s 9ms/step - loss: 0.0708 - acc: 0.9802 - val_loss: 0.3425 - val_acc: 0.8564\n"
     ]
    }
   ],
   "source": [
    "history = model.fit(X_train, y_train, epochs = 30, validation_data = (X_val, y_val), callbacks = [es, rp])"
   ]
  },
  {
   "cell_type": "code",
   "execution_count": 16,
   "metadata": {},
   "outputs": [
    {
     "data": {
      "image/png": "[encoded data removed]",
      "text/plain": [
       "<Figure size 720x288 with 2 Axes>"
      ]
     },
     "metadata": {
      "needs_background": "light"
     },
     "output_type": "display_data"
    }
   ],
   "source": [
    "plt.figure(figsize = (10, 4))\n",
    "\n",
    "epochs = history.epoch\n",
    "epochs = [x+1 for x in epochs]\n",
    "\n",
    "ax1 = plt.subplot(1, 2, 1)\n",
    "sns.lineplot(epochs, history.history['loss'], marker = 'o', color = 'green', label = 'Train')\n",
    "sns.lineplot(epochs, history.history['val_loss'], marker = 'o', color = 'red', label = 'Validation')\n",
    "for s in ['top','left','right']:\n",
    "    ax1.spines[s].set_visible(False)\n",
    "ax1.grid(axis='y', linestyle='-', alpha=0.4)\n",
    "plt.title('Loss vs Validation Loss', fontsize = 15); plt.xlabel('Epochs'); plt.ylabel('Loss')\n",
    "\n",
    "ax2 = plt.subplot(1, 2, 2)\n",
    "sns.lineplot(epochs, history.history['acc'], marker = 'o', color = 'green', label = 'Train')\n",
    "sns.lineplot(epochs, history.history['val_acc'], marker = 'o', color = 'red', label = 'Validation')\n",
    "for s in ['top','left','right']:\n",
    "    ax2.spines[s].set_visible(False)\n",
    "ax2.grid(axis='y', linestyle='-', alpha=0.4)\n",
    "plt.title('Accuracy vs Validation Accuracy', fontsize = 15); plt.xlabel('Epochs'); plt.ylabel('Accuracy'); plt.ylim([0.2, 1])\n",
    "\n",
    "plt.tight_layout()\n",
    "plt.show()"
   ]
  }
 ],
 "metadata": {
  "kernelspec": {
   "display_name": "Python 3",
   "language": "python",
   "name": "python3"
  },
  "language_info": {
   "codemirror_mode": {
    "name": "ipython",
    "version": 3
   },
   "file_extension": ".py",
   "mimetype": "text/x-python",
   "name": "python",
   "nbconvert_exporter": "python",
   "pygments_lexer": "ipython3",
   "version": "3.8.5"
  }
 },
 "nbformat": 4,
 "nbformat_minor": 4
}
