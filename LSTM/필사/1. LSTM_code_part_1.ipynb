{
 "cells": [
  {
   "cell_type": "markdown",
   "metadata": {},
   "source": [
    "# LSTM 예제 코드 필사하고 이해하기 - Part 1\n",
    "\n",
    "<br>\n",
    "\n",
    "<br>\n",
    "\n",
    "#### 참고한 LSTM Code\n",
    "[Pytorch ver.1](https://cnvrg.io/pytorch-lstm/?gclid=Cj0KCQiA6t6ABhDMARIsAONIYyxsIXn6G6EcMLhGnPDxnsKiv3zLU49TRMxsyTPXZmOV3E-Hh4xeI2EaAugLEALw_wcB)\n",
    "<br>\n",
    "[Pytorch ver.2](https://stackabuse.com/time-series-prediction-using-lstm-with-pytorch-in-python/)"
   ]
  },
  {
   "cell_type": "code",
   "execution_count": 1,
   "metadata": {},
   "outputs": [],
   "source": [
    "import pandas as pd\n",
    "import numpy as np\n",
    "import seaborn as sns\n",
    "import matplotlib.pyplot as plt\n",
    "\n",
    "import torch\n",
    "import torch.nn as nn\n",
    "from torch.autograd import Variable\n",
    "\n",
    "from sklearn.preprocessing import MinMaxScaler, StandardScaler\n",
    "from sklearn.model_selection import train_test_split\n",
    "\n",
    "from keras.callbacks import EarlyStopping"
   ]
  },
  {
   "cell_type": "markdown",
   "metadata": {},
   "source": [
    "## Data Preparation\n",
    "사용데이터: 스타벅스 Stock volumne 데이터"
   ]
  },
  {
   "cell_type": "code",
   "execution_count": 2,
   "metadata": {},
   "outputs": [
    {
     "data": {
      "text/html": [
       "<div>\n",
       "<style scoped>\n",
       "    .dataframe tbody tr th:only-of-type {\n",
       "        vertical-align: middle;\n",
       "    }\n",
       "\n",
       "    .dataframe tbody tr th {\n",
       "        vertical-align: top;\n",
       "    }\n",
       "\n",
       "    .dataframe thead th {\n",
       "        text-align: right;\n",
       "    }\n",
       "</style>\n",
       "<table border=\"1\" class=\"dataframe\">\n",
       "  <thead>\n",
       "    <tr style=\"text-align: right;\">\n",
       "      <th></th>\n",
       "      <th>Open</th>\n",
       "      <th>High</th>\n",
       "      <th>Low</th>\n",
       "      <th>Close</th>\n",
       "      <th>Adj Close</th>\n",
       "      <th>Volume</th>\n",
       "    </tr>\n",
       "    <tr>\n",
       "      <th>Date</th>\n",
       "      <th></th>\n",
       "      <th></th>\n",
       "      <th></th>\n",
       "      <th></th>\n",
       "      <th></th>\n",
       "      <th></th>\n",
       "    </tr>\n",
       "  </thead>\n",
       "  <tbody>\n",
       "    <tr>\n",
       "      <th>2019-12-11</th>\n",
       "      <td>86.260002</td>\n",
       "      <td>86.870003</td>\n",
       "      <td>85.849998</td>\n",
       "      <td>86.589996</td>\n",
       "      <td>84.480545</td>\n",
       "      <td>4921900</td>\n",
       "    </tr>\n",
       "    <tr>\n",
       "      <th>2019-12-12</th>\n",
       "      <td>88.000000</td>\n",
       "      <td>88.889999</td>\n",
       "      <td>87.540001</td>\n",
       "      <td>88.209999</td>\n",
       "      <td>86.061089</td>\n",
       "      <td>10282100</td>\n",
       "    </tr>\n",
       "    <tr>\n",
       "      <th>2019-12-13</th>\n",
       "      <td>88.019997</td>\n",
       "      <td>88.790001</td>\n",
       "      <td>87.580002</td>\n",
       "      <td>88.669998</td>\n",
       "      <td>86.509880</td>\n",
       "      <td>6714100</td>\n",
       "    </tr>\n",
       "    <tr>\n",
       "      <th>2019-12-16</th>\n",
       "      <td>89.139999</td>\n",
       "      <td>89.300003</td>\n",
       "      <td>88.430000</td>\n",
       "      <td>88.779999</td>\n",
       "      <td>86.617203</td>\n",
       "      <td>6705600</td>\n",
       "    </tr>\n",
       "    <tr>\n",
       "      <th>2019-12-17</th>\n",
       "      <td>88.870003</td>\n",
       "      <td>88.970001</td>\n",
       "      <td>87.470001</td>\n",
       "      <td>88.129997</td>\n",
       "      <td>85.983040</td>\n",
       "      <td>7296900</td>\n",
       "    </tr>\n",
       "  </tbody>\n",
       "</table>\n",
       "</div>"
      ],
      "text/plain": [
       "                 Open       High        Low      Close  Adj Close    Volume\n",
       "Date                                                                       \n",
       "2019-12-11  86.260002  86.870003  85.849998  86.589996  84.480545   4921900\n",
       "2019-12-12  88.000000  88.889999  87.540001  88.209999  86.061089  10282100\n",
       "2019-12-13  88.019997  88.790001  87.580002  88.669998  86.509880   6714100\n",
       "2019-12-16  89.139999  89.300003  88.430000  88.779999  86.617203   6705600\n",
       "2019-12-17  88.870003  88.970001  87.470001  88.129997  85.983040   7296900"
      ]
     },
     "execution_count": 2,
     "metadata": {},
     "output_type": "execute_result"
    }
   ],
   "source": [
    "df = pd.read_csv('SBUX.csv', index_col = 'Date', parse_dates=True)\n",
    "df.head()"
   ]
  },
  {
   "cell_type": "code",
   "execution_count": 3,
   "metadata": {},
   "outputs": [
    {
     "data": {
      "image/png": "[encoded data removed]",
      "text/plain": [
       "<Figure size 432x288 with 1 Axes>"
      ]
     },
     "metadata": {
      "needs_background": "light"
     },
     "output_type": "display_data"
    }
   ],
   "source": [
    "df['Volume'].plot(color = 'green', title = 'Starbucks Stock Volume')\n",
    "plt.show()"
   ]
  },
  {
   "cell_type": "code",
   "execution_count": 4,
   "metadata": {},
   "outputs": [],
   "source": [
    "X = df.iloc[:, :-1]\n",
    "y = df.iloc[:, 5:6]"
   ]
  },
  {
   "cell_type": "code",
   "execution_count": 5,
   "metadata": {},
   "outputs": [],
   "source": [
    "# data standardization\n",
    "mm = MinMaxScaler()\n",
    "ss = StandardScaler()\n",
    "\n",
    "X_ss = ss.fit_transform(X)\n",
    "y_mm = mm.fit_transform(y) "
   ]
  },
  {
   "cell_type": "code",
   "execution_count": 6,
   "metadata": {},
   "outputs": [],
   "source": [
    "X_train, X_test, y_train, y_test = train_test_split(X_ss, y_mm, test_size = 0.2, random_state = 0)"
   ]
  },
  {
   "cell_type": "markdown",
   "metadata": {},
   "source": [
    "## 1-1. Pytorch ver.1"
   ]
  },
  {
   "cell_type": "markdown",
   "metadata": {},
   "source": [
    "### Step1: Convert data to tensor\n",
    "Pytorch로 LSTM 모델을 구현하기 위해서는 input data의 형태를 numpy에서 tensor로 변환해야한다. `torch.Tensor`을 이용하면 변환이 가능하다. 여기서 `Variable`을 걸어주었는데, 이는 향후 모델 optimize를 할 때 순전파, 역전파 및 gradient 계산을 원활히 할 수 있도록 도와주는 pytorch tensor의 wrapper이다.\n"
   ]
  },
  {
   "cell_type": "code",
   "execution_count": 7,
   "metadata": {},
   "outputs": [],
   "source": [
    "X_train_tensor = Variable(torch.Tensor(X_train))\n",
    "X_test_tensor = Variable(torch.Tensor(X_test))\n",
    "y_train_tensor = Variable(torch.Tensor(y_train))\n",
    "y_test_tensor = Variable(torch.Tensor(y_test)) "
   ]
  },
  {
   "cell_type": "markdown",
   "metadata": {},
   "source": [
    "### Step2: Reshaping data to sequence form\n",
    "LSTM 모델은 sequential data를 처리하기 위한 모델이기 때문에 일반적으로 사용하는 2-D array를 적용할 수 없다. 따라서 timestamp를 포함하도록 데이터를 재구조화 해야한다. \n",
    "\n",
    " + 구조: (number of data, timestamp, features)"
   ]
  },
  {
   "cell_type": "code",
   "execution_count": 8,
   "metadata": {},
   "outputs": [],
   "source": [
    "# reshaping tensor\n",
    "X_train_tensor_final = torch.reshape(X_train_tensor, (X_train_tensor.shape[0], 1, X_train_tensor.shape[1]))\n",
    "X_test_tensor_final = torch.reshape(X_test_tensor, (X_test_tensor.shape[0], 1, X_test_tensor.shape[1])) "
   ]
  },
  {
   "cell_type": "code",
   "execution_count": 26,
   "metadata": {},
   "outputs": [
    {
     "name": "stdout",
     "output_type": "stream",
     "text": [
      "torch.Size([202, 1, 5])\n",
      "torch.Size([51, 1, 5])\n"
     ]
    }
   ],
   "source": [
    "print(X_train_tensor_final.shape)\n",
    "print(X_test_tensor_final.shape)"
   ]
  },
  {
   "cell_type": "markdown",
   "metadata": {},
   "source": [
    "### Step3: LSTM Model\n",
    "`torch.nn.LSTM`을 이용하면 LSTM 모델을 쉽게 구현할 수 있다. `torch.nn.LSTM` 함수는 forget gate, input gate, cell state, output gate를 처리하는 과정을 모두 담고있다. 자세한 설명은 [Pytorch 공식 설명](https://pytorch.org/docs/stable/generated/torch.nn.LSTM.html)을 참고하면 된다.\n",
    "\n",
    "\n",
    "필사를 하기 위해 다양한 코드를 살펴보았는데, LSTM 모델링은 대부분 클래스를 통해 구현되었다. 하나씩 살펴보면 다음과 같다.\n",
    "\n",
    "#### (1) LSTM model 클래스 구조\n",
    "1. `__init__`\n",
    "  + LSTM 모델의 기본 setting 및 모델 구조를 설정하는 단계\n",
    "  + `super(model, self).__init__()`를 이용해 이 단계에서 설정하는 기본 setting이 전역적으로 적용되게 설정한다.\n",
    "  + 모델 구조는 상황에 맞게 설정한다. 기본적으로 **nn.LSTM - nn.Linear** 구조로, LSTM 모델로 output을 만든 후, Dense layer를 거쳐 최종 output을 만드는 구조로 만든다. (nn.Linear에서 활성화함수를 적용하면 된다.)\n",
    " \n",
    "2. forward\n",
    "  + input data를 받아 `__init__` 단계에서 구축한 모델을 이용해 output prediction을 하는 단계\n",
    "  + hidden layer와 cell state의 inital state를 0으로 설정한다. 모델 학습 후 최종 timestamp에서의 hidden state와 cell state를 확인할 수 있다.\n",
    "  \n",
    "<br>\n",
    "<br>\n",
    "\n",
    "**LSTM parameters** <br>\n",
    " + `input_size`: input data의 feature 수\n",
    " + `hidden_size`: hidden state에 있는 feature 수(hidden nodes)\n",
    " + `num_layers`: LSTM 모델을 몇 개의 layer로 쌓을지를 결정\n",
    " + `dropout`: Dropout layer 역할 수행. 몇 %를 dropout 할 것인지를 결정\n",
    " + `batch_first`: If True, then the input and output tensors are provided as (batch, seq, feature)\n",
    " + `bidirectional`: 양방향 LSTM을 구현할 것인지를 결정하는 요소. 양방향 LSTM에 대해 간단히 설명하자면, 예를 들어 NLP를 LSTM을 이용해서 구현할 때, '나는 00를 뒤집어 쓰고 펑펑 울었다.' 에서 00에 해당하는 단어를 유추할 때 '나는' 보다는 '뒤집어 쓰고 펑펑 울었다' 부분을 분석하는 것이 더 유리하다. 즉, 일방향 LSTM이라면 00에 해당하는 단어를 '나는'을 통해 유추해야 하지만, 양방향 LSTM이라면 뒤에서부터도 LSTM을 진행하기 때문에 '뒤집에 쓰고 펑펑 울었다'를 이용해 00을 유추할 수 있는 것이다."
   ]
  },
  {
   "cell_type": "code",
   "execution_count": 29,
   "metadata": {},
   "outputs": [],
   "source": [
    "class LSTM(nn.Module):\n",
    "    def __init__(self, num_classes, input_size, hidden_size, num_layers, seq_length):\n",
    "        super(LSTM, self).__init__()\n",
    "        self.num_classes = num_classes\n",
    "        self.input_size = input_size\n",
    "        self.hidden_size = hidden_size\n",
    "        self.num_layers = num_layers\n",
    "        self.seq_length = seq_length\n",
    "        \n",
    "        self.lstm = nn.LSTM(input_size = input_size, hidden_size = hidden_size, num_layers = num_layers,\n",
    "                           batch_first = True)\n",
    "        \n",
    "        self.fc_1 = nn.Linear(hidden_size, 128)\n",
    "        self.fc = nn.Linear(128, num_classes)\n",
    "        \n",
    "        self.relu = nn.ReLU()\n",
    "        \n",
    "    def forward(self, x):\n",
    "        h_0 = Variable(torch.zeros(self.num_layers, x.size(0), self.hidden_size)) # initial hidden state\n",
    "        c_0 = Variable(torch.zeros(self.num_layers, x.size(0), self.hidden_size)) # initial cell state\n",
    "        \n",
    "        output, (hn, cn) = self.lstm(x, (h_0, c_0))\n",
    "        hn = hn.view(-1, self.hidden_size)\n",
    "        out = self.relu(hn)\n",
    "        out = self.fc_1(out)\n",
    "        out = self.relu(out)\n",
    "        out = self.fc(out)\n",
    "        \n",
    "        return out"
   ]
  },
  {
   "cell_type": "code",
   "execution_count": 30,
   "metadata": {},
   "outputs": [],
   "source": [
    "# model parameter 설정\n",
    "num_epochs = 1000 \n",
    "learning_rate = 0.001 \n",
    "\n",
    "input_size = 5  \n",
    "hidden_size = 10\n",
    "num_layers = 1\n",
    "\n",
    "num_classes = 1 "
   ]
  },
  {
   "cell_type": "code",
   "execution_count": 31,
   "metadata": {},
   "outputs": [],
   "source": [
    "lstm1 = LSTM(num_classes, input_size, hidden_size, num_layers, X_train_tensor_final.shape[1])"
   ]
  },
  {
   "cell_type": "markdown",
   "metadata": {},
   "source": [
    "### Step4: Define loss and optimizer\n",
    "1. Loss function 설정\n",
    " + `torch.nn`을 사용해 사용할 loss 함수를 지정한다.\n",
    "2. Optimizer 설정\n",
    " + `torch.optim`을 사용해 otpimizer 함수를 지정한다. 이 때 input으로 앞서 구축한 모델 파라미터(`model.parameters()`)와 학습률(learning_rate)를 설정한다.\n",
    " \n",
    "3. Epoch 마다 모델 학습 및 가중치 update\n",
    " + loss function에 gradient descent를 하여 가중치를 update할 때 꼭 다음 순서로 진행해야 한다.\n",
    "```python\n",
    "# 가중치 매개변수 변화율을 0으로 설정 - 이유: pytorch에서는 가중치 업데이트를 할 때 누적해서 계산하기 때문에 zero_grade()를 이용해 0으로 초기화 해야한다.\n",
    "optimizer.zero_grad() \n",
    "# Back Propagation\n",
    "loss.backward()\n",
    "# 가중치 업데이트\n",
    "optimizer.step() \n",
    "```"
   ]
  },
  {
   "cell_type": "code",
   "execution_count": 32,
   "metadata": {},
   "outputs": [],
   "source": [
    "mse = torch.nn.MSELoss()\n",
    "optimizer = torch.optim.Adam(lstm1.parameters(), lr = learning_rate)"
   ]
  },
  {
   "cell_type": "code",
   "execution_count": 33,
   "metadata": {},
   "outputs": [
    {
     "name": "stdout",
     "output_type": "stream",
     "text": [
      "Epoch: 0, loss: 0.11529\n",
      "Epoch: 100, loss: 0.01636\n",
      "Epoch: 200, loss: 0.01471\n",
      "Epoch: 300, loss: 0.01407\n",
      "Epoch: 400, loss: 0.01232\n",
      "Epoch: 500, loss: 0.01014\n",
      "Epoch: 600, loss: 0.00924\n",
      "Epoch: 700, loss: 0.00870\n",
      "Epoch: 800, loss: 0.00845\n",
      "Epoch: 900, loss: 0.00830\n"
     ]
    }
   ],
   "source": [
    "for epoch in range(num_epochs):\n",
    "    outputs = lstm1.forward(X_train_tensor_final)\n",
    "    optimizer.zero_grad() \n",
    "    \n",
    "    loss = mse(outputs, y_train_tensor)\n",
    "    loss.backward() \n",
    "    \n",
    "    optimizer.step() \n",
    "    \n",
    "    if epoch % 100 == 0:\n",
    "        print(\"Epoch: %d, loss: %1.5f\" % (epoch, loss.item())) "
   ]
  },
  {
   "cell_type": "markdown",
   "metadata": {},
   "source": [
    "### Step5: Prediction"
   ]
  },
  {
   "cell_type": "code",
   "execution_count": 34,
   "metadata": {},
   "outputs": [],
   "source": [
    "df_X_ss = ss.transform(df.iloc[:, :-1]) \n",
    "df_y_mm = mm.transform(df.iloc[:, -1:]) \n",
    "\n",
    "df_X_ss = Variable(torch.Tensor(df_X_ss)) \n",
    "df_y_mm = Variable(torch.Tensor(df_y_mm))\n",
    "\n",
    "# reshape input data\n",
    "df_X_ss = torch.reshape(df_X_ss, (df_X_ss.shape[0], 1, df_X_ss.shape[1]))"
   ]
  },
  {
   "cell_type": "code",
   "execution_count": 35,
   "metadata": {},
   "outputs": [],
   "source": [
    "train_pred = lstm1(df_X_ss)\n",
    "data_pred = train_pred.data.numpy()\n",
    "datay_plot = df_y_mm.data.numpy()"
   ]
  },
  {
   "cell_type": "code",
   "execution_count": 36,
   "metadata": {},
   "outputs": [],
   "source": [
    "# 데이터 scaling 전 형태로 변환하기\n",
    "data_pred = mm.inverse_transform(data_pred)\n",
    "datay_plot = mm.inverse_transform(datay_plot)"
   ]
  },
  {
   "cell_type": "code",
   "execution_count": 41,
   "metadata": {},
   "outputs": [
    {
     "data": {
      "image/png": "[encoded data removed]",
      "text/plain": [
       "<Figure size 432x288 with 1 Axes>"
      ]
     },
     "metadata": {
      "needs_background": "light"
     },
     "output_type": "display_data"
    }
   ],
   "source": [
    "plt.plot(datay_plot, label='Actual Data', color = 'green')\n",
    "plt.plot(data_pred, label='Predicted Data', color = 'red')\n",
    "plt.title('Actual vs Prediction', fontsize = 15)\n",
    "plt.legend()\n",
    "plt.show()"
   ]
  },
  {
   "cell_type": "markdown",
   "metadata": {},
   "source": [
    "## 2. Keras\n",
    "Keras를 이용해 LSTM을 구현하는 것은 pytorch 보다는 간단하다. 내장되어있는 `keras.layers.LSTM` 함수를 이용하면 쉽게 구현할 수 있다. Keras로 딥러닝을 구현하는 방법에 대한 해설은 이전 필사에서 자세히 다뤘기 때문에 생략한다."
   ]
  },
  {
   "cell_type": "markdown",
   "metadata": {},
   "source": [
    "### Step1: Reshaping data to sequential form\n",
    "Pytorch와 마찬가지로 데이터를 sequential 형태로 reshaping 해준다. Format은 동일하다."
   ]
  },
  {
   "cell_type": "code",
   "execution_count": 55,
   "metadata": {},
   "outputs": [],
   "source": [
    "X_train_t = X_train.reshape(X_train.shape[0], 1, 5) \n",
    "X_test_t = X_test.reshape(X_test.shape[0], 1, 5)"
   ]
  },
  {
   "cell_type": "markdown",
   "metadata": {},
   "source": [
    "### Step2: Keras LSTM Model\n",
    "+ LSTM 계층\n",
    "```python\n",
    "model.add(LSTM(number of hidden nodes, input_shape = ( , ))\n",
    "```\n",
    " + input_shape: (timestamp, feature) 로 지정\n"
   ]
  },
  {
   "cell_type": "code",
   "execution_count": 66,
   "metadata": {},
   "outputs": [
    {
     "name": "stdout",
     "output_type": "stream",
     "text": [
      "Model: \"sequential_2\"\n",
      "_________________________________________________________________\n",
      "Layer (type)                 Output Shape              Param #   \n",
      "=================================================================\n",
      "lstm_2 (LSTM)                (None, 10)                640       \n",
      "_________________________________________________________________\n",
      "dense_3 (Dense)              (None, 128)               1408      \n",
      "_________________________________________________________________\n",
      "dense_4 (Dense)              (None, 1)                 129       \n",
      "=================================================================\n",
      "Total params: 2,177\n",
      "Trainable params: 2,177\n",
      "Non-trainable params: 0\n",
      "_________________________________________________________________\n"
     ]
    }
   ],
   "source": [
    "from keras.layers import LSTM \n",
    "from keras.models import Sequential \n",
    "from keras.layers import Dense \n",
    "from keras.callbacks import EarlyStopping \n",
    "\n",
    "model = Sequential() # Sequeatial Model \n",
    "model.add(LSTM(10, input_shape=(1, 5))) # (timestep, feature) \n",
    "model.add(Dense(128))\n",
    "model.add(Dense(1))\n",
    "model.compile(loss='mean_squared_error', optimizer='adam') \n",
    "model.summary()"
   ]
  },
  {
   "cell_type": "code",
   "execution_count": 67,
   "metadata": {},
   "outputs": [
    {
     "name": "stdout",
     "output_type": "stream",
     "text": [
      "Epoch 1/100\n",
      "7/7 [==============================] - 3s 2ms/step - loss: 0.1101\n",
      "Epoch 2/100\n",
      "7/7 [==============================] - 0s 3ms/step - loss: 0.0520\n",
      "Epoch 3/100\n",
      "7/7 [==============================] - 0s 3ms/step - loss: 0.0194\n",
      "Epoch 4/100\n",
      "7/7 [==============================] - 0s 3ms/step - loss: 0.0189\n",
      "Epoch 5/100\n",
      "7/7 [==============================] - 0s 3ms/step - loss: 0.0205\n",
      "Epoch 6/100\n",
      "7/7 [==============================] - 0s 3ms/step - loss: 0.0179\n",
      "Epoch 7/100\n",
      "7/7 [==============================] - 0s 3ms/step - loss: 0.0166\n",
      "Epoch 8/100\n",
      "7/7 [==============================] - 0s 3ms/step - loss: 0.0185\n",
      "Epoch 9/100\n",
      "7/7 [==============================] - 0s 3ms/step - loss: 0.0218\n",
      "Epoch 10/100\n",
      "7/7 [==============================] - 0s 3ms/step - loss: 0.0167\n",
      "Epoch 11/100\n",
      "7/7 [==============================] - 0s 3ms/step - loss: 0.0150\n",
      "Epoch 12/100\n",
      "7/7 [==============================] - 0s 3ms/step - loss: 0.0148\n",
      "Epoch 13/100\n",
      "7/7 [==============================] - 0s 3ms/step - loss: 0.0172\n",
      "Epoch 14/100\n",
      "7/7 [==============================] - 0s 2ms/step - loss: 0.0178\n",
      "Epoch 15/100\n",
      "7/7 [==============================] - 0s 3ms/step - loss: 0.0182\n",
      "Epoch 16/100\n",
      "7/7 [==============================] - 0s 3ms/step - loss: 0.0156\n",
      "Epoch 17/100\n",
      "7/7 [==============================] - 0s 3ms/step - loss: 0.0145\n",
      "Epoch 18/100\n",
      "7/7 [==============================] - 0s 2ms/step - loss: 0.0172\n",
      "Epoch 19/100\n",
      "7/7 [==============================] - 0s 3ms/step - loss: 0.0173\n",
      "Epoch 20/100\n",
      "7/7 [==============================] - 0s 3ms/step - loss: 0.0164\n",
      "Epoch 21/100\n",
      "7/7 [==============================] - 0s 3ms/step - loss: 0.0160\n",
      "Epoch 22/100\n",
      "7/7 [==============================] - 0s 3ms/step - loss: 0.0149\n",
      "Epoch 23/100\n",
      "7/7 [==============================] - 0s 3ms/step - loss: 0.0153\n",
      "Epoch 24/100\n",
      "7/7 [==============================] - 0s 3ms/step - loss: 0.0191\n",
      "Epoch 25/100\n",
      "7/7 [==============================] - 0s 3ms/step - loss: 0.0184\n",
      "Epoch 26/100\n",
      "7/7 [==============================] - 0s 2ms/step - loss: 0.0117\n",
      "Epoch 27/100\n",
      "7/7 [==============================] - 0s 3ms/step - loss: 0.0171\n",
      "Epoch 28/100\n",
      "7/7 [==============================] - 0s 4ms/step - loss: 0.0150\n",
      "Epoch 29/100\n",
      "7/7 [==============================] - 0s 3ms/step - loss: 0.0150\n",
      "Epoch 30/100\n",
      "7/7 [==============================] - 0s 3ms/step - loss: 0.0155\n",
      "Epoch 31/100\n",
      "7/7 [==============================] - 0s 5ms/step - loss: 0.0138\n",
      "Epoch 32/100\n",
      "7/7 [==============================] - 0s 5ms/step - loss: 0.0189\n",
      "Epoch 33/100\n",
      "7/7 [==============================] - 0s 3ms/step - loss: 0.0164\n",
      "Epoch 34/100\n",
      "7/7 [==============================] - 0s 7ms/step - loss: 0.0136\n",
      "Epoch 35/100\n",
      "7/7 [==============================] - 0s 4ms/step - loss: 0.0157\n",
      "Epoch 36/100\n",
      "7/7 [==============================] - 0s 3ms/step - loss: 0.0148\n",
      "Epoch 37/100\n",
      "7/7 [==============================] - 0s 7ms/step - loss: 0.0147\n",
      "Epoch 38/100\n",
      "7/7 [==============================] - 0s 6ms/step - loss: 0.0125\n",
      "Epoch 39/100\n",
      "7/7 [==============================] - 0s 3ms/step - loss: 0.0142\n",
      "Epoch 40/100\n",
      "7/7 [==============================] - 0s 4ms/step - loss: 0.0139\n",
      "Epoch 41/100\n",
      "7/7 [==============================] - 0s 5ms/step - loss: 0.0140\n",
      "Epoch 42/100\n",
      "7/7 [==============================] - 0s 3ms/step - loss: 0.0131\n",
      "Epoch 43/100\n",
      "7/7 [==============================] - 0s 4ms/step - loss: 0.0144\n",
      "Epoch 44/100\n",
      "7/7 [==============================] - 0s 3ms/step - loss: 0.0145\n",
      "Epoch 45/100\n",
      "7/7 [==============================] - 0s 4ms/step - loss: 0.0140\n",
      "Epoch 46/100\n",
      "7/7 [==============================] - 0s 3ms/step - loss: 0.0125\n",
      "Epoch 47/100\n",
      "7/7 [==============================] - 0s 3ms/step - loss: 0.0154\n",
      "Epoch 48/100\n",
      "7/7 [==============================] - 0s 3ms/step - loss: 0.0144\n",
      "Epoch 49/100\n",
      "7/7 [==============================] - 0s 3ms/step - loss: 0.0121\n",
      "Epoch 50/100\n",
      "7/7 [==============================] - 0s 3ms/step - loss: 0.0124\n",
      "Epoch 51/100\n",
      "7/7 [==============================] - 0s 3ms/step - loss: 0.0111\n",
      "Epoch 52/100\n",
      "7/7 [==============================] - 0s 3ms/step - loss: 0.0164\n",
      "Epoch 53/100\n",
      "7/7 [==============================] - 0s 3ms/step - loss: 0.0124\n",
      "Epoch 54/100\n",
      "7/7 [==============================] - 0s 2ms/step - loss: 0.0155\n",
      "Epoch 55/100\n",
      "7/7 [==============================] - 0s 3ms/step - loss: 0.0118\n",
      "Epoch 56/100\n",
      "7/7 [==============================] - 0s 3ms/step - loss: 0.0122\n",
      "Epoch 57/100\n",
      "7/7 [==============================] - 0s 4ms/step - loss: 0.0145\n",
      "Epoch 58/100\n",
      "7/7 [==============================] - 0s 3ms/step - loss: 0.0153\n",
      "Epoch 59/100\n",
      "7/7 [==============================] - 0s 3ms/step - loss: 0.0133\n",
      "Epoch 60/100\n",
      "7/7 [==============================] - 0s 3ms/step - loss: 0.0123\n",
      "Epoch 61/100\n",
      "7/7 [==============================] - 0s 2ms/step - loss: 0.0100\n",
      "Epoch 62/100\n",
      "7/7 [==============================] - 0s 3ms/step - loss: 0.0124\n",
      "Epoch 63/100\n",
      "7/7 [==============================] - 0s 3ms/step - loss: 0.0142\n",
      "Epoch 64/100\n",
      "7/7 [==============================] - 0s 3ms/step - loss: 0.0127\n",
      "Epoch 65/100\n",
      "7/7 [==============================] - 0s 3ms/step - loss: 0.0132\n",
      "Epoch 66/100\n",
      "7/7 [==============================] - 0s 2ms/step - loss: 0.0125\n",
      "Epoch 67/100\n",
      "7/7 [==============================] - 0s 2ms/step - loss: 0.0129\n",
      "Epoch 68/100\n",
      "7/7 [==============================] - 0s 2ms/step - loss: 0.0154\n",
      "Epoch 69/100\n",
      "7/7 [==============================] - 0s 3ms/step - loss: 0.0111\n",
      "Epoch 70/100\n",
      "7/7 [==============================] - 0s 3ms/step - loss: 0.0116\n",
      "Epoch 00070: early stopping\n"
     ]
    },
    {
     "data": {
      "text/plain": [
       "<tensorflow.python.keras.callbacks.History at 0x165c8963610>"
      ]
     },
     "execution_count": 67,
     "metadata": {},
     "output_type": "execute_result"
    }
   ],
   "source": [
    "# callbacks \n",
    "early_stop = EarlyStopping(monitor='loss', patience=5, verbose=1)\n",
    "\n",
    "model.fit(X_train_t, y_train, epochs = 100, batch_size = 30, verbose = 1, callbacks = [early_stop])"
   ]
  }
 ],
 "metadata": {
  "kernelspec": {
   "display_name": "Python 3",
   "language": "python",
   "name": "python3"
  },
  "language_info": {
   "codemirror_mode": {
    "name": "ipython",
    "version": 3
   },
   "file_extension": ".py",
   "mimetype": "text/x-python",
   "name": "python",
   "nbconvert_exporter": "python",
   "pygments_lexer": "ipython3",
   "version": "3.8.5"
  }
 },
 "nbformat": 4,
 "nbformat_minor": 4
}
